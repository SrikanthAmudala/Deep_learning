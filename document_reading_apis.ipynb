{
 "cells": [
  {
   "cell_type": "code",
   "execution_count": 1,
   "id": "9b69e2ca-1823-4eb0-8faa-d5e46d44a823",
   "metadata": {},
   "outputs": [
    {
     "name": "stdout",
     "output_type": "stream",
     "text": [
      "Collecting pydocparser\n",
      "  Downloading PyDocParser-2.0.tar.gz (5.9 kB)\n",
      "  Installing build dependencies ... \u001b[?25ldone\n",
      "\u001b[?25h  Getting requirements to build wheel ... \u001b[?25ldone\n",
      "\u001b[?25h  Preparing metadata (pyproject.toml) ... \u001b[?25ldone\n",
      "\u001b[?25hRequirement already satisfied: requests>=2.22.0 in ./openai_env/lib/python3.12/site-packages (from pydocparser) (2.32.3)\n",
      "Requirement already satisfied: charset-normalizer<4,>=2 in ./openai_env/lib/python3.12/site-packages (from requests>=2.22.0->pydocparser) (3.3.2)\n",
      "Requirement already satisfied: idna<4,>=2.5 in ./openai_env/lib/python3.12/site-packages (from requests>=2.22.0->pydocparser) (3.7)\n",
      "Requirement already satisfied: urllib3<3,>=1.21.1 in ./openai_env/lib/python3.12/site-packages (from requests>=2.22.0->pydocparser) (2.2.2)\n",
      "Requirement already satisfied: certifi>=2017.4.17 in ./openai_env/lib/python3.12/site-packages (from requests>=2.22.0->pydocparser) (2024.6.2)\n",
      "Building wheels for collected packages: pydocparser\n",
      "  Building wheel for pydocparser (pyproject.toml) ... \u001b[?25ldone\n",
      "\u001b[?25h  Created wheel for pydocparser: filename=PyDocParser-2.0-py3-none-any.whl size=5953 sha256=1219b3a38565541dc343a8982b117790770134c713df20175e34515e3d4b7df1\n",
      "  Stored in directory: /Users/Srikanth/Library/Caches/pip/wheels/40/ec/5a/718d9ff713a0fd12543293a0ff33c16d5c802d104ee02a8656\n",
      "Successfully built pydocparser\n",
      "Installing collected packages: pydocparser\n",
      "Successfully installed pydocparser-2.0\n",
      "\n",
      "\u001b[1m[\u001b[0m\u001b[34;49mnotice\u001b[0m\u001b[1;39;49m]\u001b[0m\u001b[39;49m A new release of pip is available: \u001b[0m\u001b[31;49m24.0\u001b[0m\u001b[39;49m -> \u001b[0m\u001b[32;49m24.1\u001b[0m\n",
      "\u001b[1m[\u001b[0m\u001b[34;49mnotice\u001b[0m\u001b[1;39;49m]\u001b[0m\u001b[39;49m To update, run: \u001b[0m\u001b[32;49mpip install --upgrade pip\u001b[0m\n"
     ]
    }
   ],
   "source": [
    "!pip install pydocparser"
   ]
  },
  {
   "cell_type": "code",
   "execution_count": 2,
   "id": "5f59832d-b22d-4736-a1d3-75b5c6a7acde",
   "metadata": {},
   "outputs": [
    {
     "name": "stdout",
     "output_type": "stream",
     "text": [
      "pong\n"
     ]
    }
   ],
   "source": [
    "import pydocparser\n",
    "parser = pydocparser.Parser()\n",
    "parser.login(\"e22d510e5e03bd2e265dca5ab8fd2e4235f168f5\")\n",
    "print(parser.ping())"
   ]
  },
  {
   "cell_type": "code",
   "execution_count": 3,
   "id": "e6675632-c27b-4517-9d6f-3904e8d72fd7",
   "metadata": {},
   "outputs": [],
   "source": [
    "parsers = parser.list_parsers()"
   ]
  },
  {
   "cell_type": "code",
   "execution_count": 4,
   "id": "0b3232c5-b542-464b-9642-433c10db48ea",
   "metadata": {},
   "outputs": [
    {
     "data": {
      "text/plain": [
       "[{'id': 'wkwzapfftvkc', 'label': 'Carpenter Invoice 1'}]"
      ]
     },
     "execution_count": 4,
     "metadata": {},
     "output_type": "execute_result"
    }
   ],
   "source": [
    "parsers"
   ]
  },
  {
   "cell_type": "code",
   "execution_count": 5,
   "id": "8c6151d2-f5ec-4cad-afe5-02ecda833656",
   "metadata": {},
   "outputs": [],
   "source": [
    "document_id = parser.upload_file_by_path('data/sample_invoice.png', 'Carpenter Invoice 1')"
   ]
  },
  {
   "cell_type": "code",
   "execution_count": 6,
   "id": "6c269816-1444-4224-b2ef-9616073d798d",
   "metadata": {},
   "outputs": [
    {
     "data": {
      "text/plain": [
       "'e1886167b7f0f8dd1cd92fa9a613ee39'"
      ]
     },
     "execution_count": 6,
     "metadata": {},
     "output_type": "execute_result"
    }
   ],
   "source": [
    "document_id"
   ]
  },
  {
   "cell_type": "code",
   "execution_count": 7,
   "id": "cb4ca787-32f1-475b-b634-355e492d71b9",
   "metadata": {},
   "outputs": [],
   "source": [
    "parser_name = \"Carpenter Invoice 1\"\n",
    "data = parser.get_one_result(parser_name, document_id)"
   ]
  },
  {
   "cell_type": "code",
   "execution_count": 8,
   "id": "00a248e5-9711-4401-9429-beb8ed6d64ea",
   "metadata": {},
   "outputs": [
    {
     "data": {
      "text/plain": [
       "[{'id': 'a1f42f87d316d4dfb4f4194e5a12b9f6',\n",
       "  'document_id': 'e1886167b7f0f8dd1cd92fa9a613ee39',\n",
       "  'remote_id': '',\n",
       "  'file_name': 'sample_invoice.png',\n",
       "  'media_link': 'https://api.docparser.com/v1/document/media/NDlAqB7L_XEFjhlAUJsIcjohR0kUrU2s51u4RUSe5t45ZAp81Dg6qg3kBPlLb125OiBqv_BvYw7i5WCNlOnIRmC0_T6iVhBsbszcLTle8nc',\n",
       "  'media_link_original': 'https://api.docparser.com/v1/document/media/NDlAqB7L_XEFjhlAUJsIcjohR0kUrU2s51u4RUSe5t45ZAp81Dg6qg3kBPlLb125OiBqv_BvYw7i5WCNlOnIRmC0_T6iVhBsbszcLTle8nc/original',\n",
       "  'media_link_data': 'https://api.docparser.com/v1/document/media/NDlAqB7L_XEFjhlAUJsIcjohR0kUrU2s51u4RUSe5t45ZAp81Dg6qg3kBPlLb125OiBqv_BvYw7i5WCNlOnIRmC0_T6iVhBsbszcLTle8nc/data',\n",
       "  'page_count': 1,\n",
       "  'uploaded_at': '2024-06-26T01:54:23+00:00',\n",
       "  'processed_at': '2024-06-26T01:54:36+00:00',\n",
       "  'uploaded_at_utc': '2024-06-26T01:54:23+00:00',\n",
       "  'uploaded_at_user': '2024-06-25T18:54:23+00:00',\n",
       "  'processed_at_utc': '2024-06-26T01:54:36+00:00',\n",
       "  'processed_at_user': '2024-06-25T18:54:36+00:00',\n",
       "  'invoice_number': None,\n",
       "  'invoice_date': {'match': '06/10/2021', 'iso8601': '2021-06-10'},\n",
       "  'shipping_name': None,\n",
       "  'shipping_address': None,\n",
       "  'phone_number': {'formatted': '+11231231232'},\n",
       "  'email': {'email': 'john@example.com'},\n",
       "  'billing_address': None,\n",
       "  'totals': {'net': None,\n",
       "   'tax': None,\n",
       "   'total': '425.00',\n",
       "   'carriage': None,\n",
       "   'confidence': 80}}]"
      ]
     },
     "execution_count": 8,
     "metadata": {},
     "output_type": "execute_result"
    }
   ],
   "source": [
    "data"
   ]
  },
  {
   "cell_type": "code",
   "execution_count": 10,
   "id": "dafc392a-7753-424e-b8c0-303b1658c352",
   "metadata": {},
   "outputs": [
    {
     "data": {
      "text/plain": [
       "[{'id': 'a1f42f87d316d4dfb4f4194e5a12b9f6',\n",
       "  'document_id': 'e1886167b7f0f8dd1cd92fa9a613ee39',\n",
       "  'remote_id': '',\n",
       "  'file_name': 'sample_invoice.png',\n",
       "  'media_link': 'https://api.docparser.com/v1/document/media/NDlAqB7L_XEFjhlAUJsIcjohR0kUrU2s51u4RUSe5t45ZAp81Dg6qg3kBPlLb125OiBqv_BvYw7i5WCNlOnIRmC0_T6iVhBsbszcLTle8nc',\n",
       "  'media_link_original': 'https://api.docparser.com/v1/document/media/NDlAqB7L_XEFjhlAUJsIcjohR0kUrU2s51u4RUSe5t45ZAp81Dg6qg3kBPlLb125OiBqv_BvYw7i5WCNlOnIRmC0_T6iVhBsbszcLTle8nc/original',\n",
       "  'media_link_data': 'https://api.docparser.com/v1/document/media/NDlAqB7L_XEFjhlAUJsIcjohR0kUrU2s51u4RUSe5t45ZAp81Dg6qg3kBPlLb125OiBqv_BvYw7i5WCNlOnIRmC0_T6iVhBsbszcLTle8nc/data',\n",
       "  'page_count': 1,\n",
       "  'uploaded_at': '2024-06-26T01:54:23+00:00',\n",
       "  'processed_at': '2024-06-26T01:54:36+00:00',\n",
       "  'uploaded_at_utc': '2024-06-26T01:54:23+00:00',\n",
       "  'uploaded_at_user': '2024-06-25T18:54:23+00:00',\n",
       "  'processed_at_utc': '2024-06-26T01:54:36+00:00',\n",
       "  'processed_at_user': '2024-06-25T18:54:36+00:00',\n",
       "  'invoice_number': None,\n",
       "  'invoice_date': {'match': '06/10/2021', 'iso8601': '2021-06-10'},\n",
       "  'shipping_name': None,\n",
       "  'shipping_address': None,\n",
       "  'phone_number': {'formatted': '+11231231232'},\n",
       "  'email': {'email': 'john@example.com'},\n",
       "  'billing_address': None,\n",
       "  'totals': {'net': None,\n",
       "   'tax': None,\n",
       "   'total': '425.00',\n",
       "   'carriage': None,\n",
       "   'confidence': 80}},\n",
       " {'id': 'b0f1215e6779dda636b9fd79a9f94acf',\n",
       "  'document_id': 'e6ef6cca0ff4a213eb288b8f5447ab07',\n",
       "  'remote_id': '',\n",
       "  'file_name': 'sample_invoice.png',\n",
       "  'media_link': 'https://api.docparser.com/v1/document/media/Ucoqrf2te8YA8iiCfZq5rMFfuNFqwtEaffj8k7-DaYo5ZAp81Dg6qg3kBPlLb125OiBqv_BvYw7i5WCNlOnIRmC0_T6iVhBsbszcLTle8nc',\n",
       "  'media_link_original': 'https://api.docparser.com/v1/document/media/Ucoqrf2te8YA8iiCfZq5rMFfuNFqwtEaffj8k7-DaYo5ZAp81Dg6qg3kBPlLb125OiBqv_BvYw7i5WCNlOnIRmC0_T6iVhBsbszcLTle8nc/original',\n",
       "  'media_link_data': 'https://api.docparser.com/v1/document/media/Ucoqrf2te8YA8iiCfZq5rMFfuNFqwtEaffj8k7-DaYo5ZAp81Dg6qg3kBPlLb125OiBqv_BvYw7i5WCNlOnIRmC0_T6iVhBsbszcLTle8nc/data',\n",
       "  'page_count': 1,\n",
       "  'uploaded_at': '2024-06-26T01:37:33+00:00',\n",
       "  'processed_at': '2024-06-26T01:37:39+00:00',\n",
       "  'uploaded_at_utc': '2024-06-26T01:37:33+00:00',\n",
       "  'uploaded_at_user': '2024-06-25T18:37:33+00:00',\n",
       "  'processed_at_utc': '2024-06-26T01:37:39+00:00',\n",
       "  'processed_at_user': '2024-06-25T18:37:39+00:00',\n",
       "  'invoice_number': '123-1232',\n",
       "  'invoice_date': {'match': '06/10/2021', 'iso8601': '2021-06-10'},\n",
       "  'shipping_name': None,\n",
       "  'shipping_address': None,\n",
       "  'phone_number': {'formatted': '+11231231232'},\n",
       "  'email': {'email': 'john@example.com'},\n",
       "  'billing_address': None,\n",
       "  'totals': {'net': None,\n",
       "   'tax': None,\n",
       "   'total': '425.00',\n",
       "   'carriage': None,\n",
       "   'confidence': 80}}]"
      ]
     },
     "execution_count": 10,
     "metadata": {},
     "output_type": "execute_result"
    }
   ],
   "source": [
    "parser.get_multiple_results(parser_name)"
   ]
  },
  {
   "cell_type": "code",
   "execution_count": null,
   "id": "e69d524c-a267-4b50-9135-b81f1c92d64b",
   "metadata": {},
   "outputs": [],
   "source": []
  }
 ],
 "metadata": {
  "kernelspec": {
   "display_name": "Python 3 (ipykernel)",
   "language": "python",
   "name": "python3"
  },
  "language_info": {
   "codemirror_mode": {
    "name": "ipython",
    "version": 3
   },
   "file_extension": ".py",
   "mimetype": "text/x-python",
   "name": "python",
   "nbconvert_exporter": "python",
   "pygments_lexer": "ipython3",
   "version": "3.12.4"
  }
 },
 "nbformat": 4,
 "nbformat_minor": 5
}
